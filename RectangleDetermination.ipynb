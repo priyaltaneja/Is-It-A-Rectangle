# The Problem
// Given four integers (A,B,C,D), determine whether or not there is a rectangle. Classically, we would need to consider all possible orderings of the four 
// integers and check if any two adjacent pairs sum up to a value that is greater than or equal to the other two integers. This requires O(24) = O(16) 
// checks, which can be quite time-consuming for large inputs.

// On the other hand, a quantum circuit can prepare a superposition of all possible orderings of the four integers in a single quantum state and perform
// the necessary checks in parallel. This means that only one computation is required to determine whether or not the 4 sides form a rectangle.

{
 "cells": [
  {
   "cell_type": "code",
   "execution_count": 1,
   "id": "7ee465f4",
   "metadata": {},
   "outputs": [],
   "source": [
    "from qiskit import QuantumCircuit, ClassicalRegister, QuantumRegister\n",
    "from qiskit import Aer, execute\n",
    "from qiskit.visualization import plot_histogram"
   ]
  },
  
  {
   "cell_type": "code",
   "execution_count": 2,
   "id": "09a192d2",
   "metadata": {},
   "outputs": [],
   "source": [
    "# define number of qubits and classical bits\n",
    "n_qubits = 8\n",
    "n_bits = 1"
   ]
  },
  {
   "cell_type": "code",
   "execution_count": 3,
   "id": "5e659c11",
   "metadata": {},
   "outputs": [],
   "source": [
    "# define the QuantumRegister and the QuantumCircuit\n",
    "qr = QuantumRegister(8, 'q')\n",
    "qc = QuantumCircuit(qr)"
   ]
  },
  {
   "cell_type": "code",
   "execution_count": 4,
   "id": "197f3121",
   "metadata": {},
   "outputs": [],
   "source": [
    "# define inputs\n",
    "A = 5\n",
    "B = 6\n",
    "C = 5\n",
    "D = 6"
   ]
  },
  {
   "cell_type": "code",
   "execution_count": 5,
   "id": "849ae058",
   "metadata": {},
   "outputs": [
    {
     "data": {
      "text/html": [
       "<pre style=\"word-wrap: normal;white-space: pre;background: #fff0;line-height: 1.1;font-family: &quot;Courier New&quot;,Courier,monospace\">     ┌───┐┌───┐┌───┐┌───┐┌───┐     \n",
       "q_0: ┤ X ├┤ X ├┤ X ├┤ X ├┤ X ├─────\n",
       "     ├───┤├───┤├───┤├───┤├───┤┌───┐\n",
       "q_1: ┤ X ├┤ X ├┤ X ├┤ X ├┤ X ├┤ X ├\n",
       "     ├───┤├───┤├───┤├───┤├───┤└───┘\n",
       "q_2: ┤ X ├┤ X ├┤ X ├┤ X ├┤ X ├─────\n",
       "     ├───┤├───┤├───┤├───┤├───┤┌───┐\n",
       "q_3: ┤ X ├┤ X ├┤ X ├┤ X ├┤ X ├┤ X ├\n",
       "     └───┘└───┘└───┘└───┘└───┘└───┘\n",
       "q_4: ──────────────────────────────\n",
       "                                   \n",
       "q_5: ──────────────────────────────\n",
       "                                   \n",
       "q_6: ──────────────────────────────\n",
       "                                   \n",
       "q_7: ──────────────────────────────\n",
       "                                   </pre>"
      ],
      "text/plain": [
       "     ┌───┐┌───┐┌───┐┌───┐┌───┐     \n",
       "q_0: ┤ X ├┤ X ├┤ X ├┤ X ├┤ X ├─────\n",
       "     ├───┤├───┤├───┤├───┤├───┤┌───┐\n",
       "q_1: ┤ X ├┤ X ├┤ X ├┤ X ├┤ X ├┤ X ├\n",
       "     ├───┤├───┤├───┤├───┤├───┤└───┘\n",
       "q_2: ┤ X ├┤ X ├┤ X ├┤ X ├┤ X ├─────\n",
       "     ├───┤├───┤├───┤├───┤├───┤┌───┐\n",
       "q_3: ┤ X ├┤ X ├┤ X ├┤ X ├┤ X ├┤ X ├\n",
       "     └───┘└───┘└───┘└───┘└───┘└───┘\n",
       "q_4: ──────────────────────────────\n",
       "                                   \n",
       "q_5: ──────────────────────────────\n",
       "                                   \n",
       "q_6: ──────────────────────────────\n",
       "                                   \n",
       "q_7: ──────────────────────────────\n",
       "                                   "
      ]
     },
     "execution_count": 5,
     "metadata": {},
     "output_type": "execute_result"
    }
   ],
   "source": [
    "# apply X-gate to qubits corresponding to values A, B, C, D\n",
    "for i in range(A):\n",
    "    qc.x(qr[0])\n",
    "for i in range(B):\n",
    "    qc.x(qr[1])\n",
    "for i in range(C):\n",
    "    qc.x(qr[2])\n",
    "for i in range(D):\n",
    "    qc.x(qr[3])\n",
    "    \n",
    "qc.draw()"
   ]
  },
  {
   "cell_type": "code",
   "execution_count": 6,
   "id": "7d741245",
   "metadata": {},
   "outputs": [
    {
     "data": {
      "text/html": [
       "<pre style=\"word-wrap: normal;white-space: pre;background: #fff0;line-height: 1.1;font-family: &quot;Courier New&quot;,Courier,monospace\">        ┌───┐┌───┐┌───┐┌───┐┌───┐                                             »\n",
       "   q_0: ┤ X ├┤ X ├┤ X ├┤ X ├┤ X ├───────■───────────────────■─────────────────»\n",
       "        ├───┤├───┤├───┤├───┤├───┤┌───┐  │                   │                 »\n",
       "   q_1: ┤ X ├┤ X ├┤ X ├┤ X ├┤ X ├┤ X ├──┼─────────■─────────■─────────────────»\n",
       "        ├───┤├───┤├───┤├───┤├───┤└───┘  │         │         │                 »\n",
       "   q_2: ┤ X ├┤ X ├┤ X ├┤ X ├┤ X ├───────┼────■────┼─────────┼────■────────────»\n",
       "        ├───┤├───┤├───┤├───┤├───┤┌───┐  │    │    │         │    │            »\n",
       "   q_3: ┤ X ├┤ X ├┤ X ├┤ X ├┤ X ├┤ X ├──┼────┼────┼────■────┼────■────────────»\n",
       "        └───┘└───┘└───┘└───┘└───┘└───┘┌─┴─┐  │  ┌─┴─┐  │    │    │       ┌───┐»\n",
       "   q_4: ──────────────────────────────┤ X ├──┼──┤ X ├──┼────┼────┼───────┤ X ├»\n",
       "                                      └───┘┌─┴─┐└───┘┌─┴─┐  │    │  ┌───┐└─┬─┘»\n",
       "   q_5: ───────────────────────────────────┤ X ├─────┤ X ├──┼────┼──┤ X ├──┼──»\n",
       "                                           └───┘     └───┘┌─┴─┐  │  └─┬─┘  │  »\n",
       "   q_6: ──────────────────────────────────────────────────┤ X ├──┼────■────┼──»\n",
       "                                                          └───┘┌─┴─┐       │  »\n",
       "   q_7: ───────────────────────────────────────────────────────┤ X ├───────■──»\n",
       "                                                               └───┘          »\n",
       "meas_0: ══════════════════════════════════════════════════════════════════════»\n",
       "                                                                              »\n",
       "meas_1: ══════════════════════════════════════════════════════════════════════»\n",
       "                                                                              »\n",
       "meas_2: ══════════════════════════════════════════════════════════════════════»\n",
       "                                                                              »\n",
       "meas_3: ══════════════════════════════════════════════════════════════════════»\n",
       "                                                                              »\n",
       "meas_4: ══════════════════════════════════════════════════════════════════════»\n",
       "                                                                              »\n",
       "meas_5: ══════════════════════════════════════════════════════════════════════»\n",
       "                                                                              »\n",
       "meas_6: ══════════════════════════════════════════════════════════════════════»\n",
       "                                                                              »\n",
       "meas_7: ══════════════════════════════════════════════════════════════════════»\n",
       "                                                                              »\n",
       "«         ░ ┌─┐                     \n",
       "«   q_0: ─░─┤M├─────────────────────\n",
       "«         ░ └╥┘┌─┐                  \n",
       "«   q_1: ─░──╫─┤M├──────────────────\n",
       "«         ░  ║ └╥┘┌─┐               \n",
       "«   q_2: ─░──╫──╫─┤M├───────────────\n",
       "«         ░  ║  ║ └╥┘┌─┐            \n",
       "«   q_3: ─░──╫──╫──╫─┤M├────────────\n",
       "«         ░  ║  ║  ║ └╥┘┌─┐         \n",
       "«   q_4: ─░──╫──╫──╫──╫─┤M├─────────\n",
       "«         ░  ║  ║  ║  ║ └╥┘┌─┐      \n",
       "«   q_5: ─░──╫──╫──╫──╫──╫─┤M├──────\n",
       "«         ░  ║  ║  ║  ║  ║ └╥┘┌─┐   \n",
       "«   q_6: ─░──╫──╫──╫──╫──╫──╫─┤M├───\n",
       "«         ░  ║  ║  ║  ║  ║  ║ └╥┘┌─┐\n",
       "«   q_7: ─░──╫──╫──╫──╫──╫──╫──╫─┤M├\n",
       "«         ░  ║  ║  ║  ║  ║  ║  ║ └╥┘\n",
       "«meas_0: ════╩══╬══╬══╬══╬══╬══╬══╬═\n",
       "«               ║  ║  ║  ║  ║  ║  ║ \n",
       "«meas_1: ═══════╩══╬══╬══╬══╬══╬══╬═\n",
       "«                  ║  ║  ║  ║  ║  ║ \n",
       "«meas_2: ══════════╩══╬══╬══╬══╬══╬═\n",
       "«                     ║  ║  ║  ║  ║ \n",
       "«meas_3: ═════════════╩══╬══╬══╬══╬═\n",
       "«                        ║  ║  ║  ║ \n",
       "«meas_4: ════════════════╩══╬══╬══╬═\n",
       "«                           ║  ║  ║ \n",
       "«meas_5: ═══════════════════╩══╬══╬═\n",
       "«                              ║  ║ \n",
       "«meas_6: ══════════════════════╩══╬═\n",
       "«                                 ║ \n",
       "«meas_7: ═════════════════════════╩═\n",
       "«                                   </pre>"
      ],
      "text/plain": [
       "        ┌───┐┌───┐┌───┐┌───┐┌───┐                                             »\n",
       "   q_0: ┤ X ├┤ X ├┤ X ├┤ X ├┤ X ├───────■───────────────────■─────────────────»\n",
       "        ├───┤├───┤├───┤├───┤├───┤┌───┐  │                   │                 »\n",
       "   q_1: ┤ X ├┤ X ├┤ X ├┤ X ├┤ X ├┤ X ├──┼─────────■─────────■─────────────────»\n",
       "        ├───┤├───┤├───┤├───┤├───┤└───┘  │         │         │                 »\n",
       "   q_2: ┤ X ├┤ X ├┤ X ├┤ X ├┤ X ├───────┼────■────┼─────────┼────■────────────»\n",
       "        ├───┤├───┤├───┤├───┤├───┤┌───┐  │    │    │         │    │            »\n",
       "   q_3: ┤ X ├┤ X ├┤ X ├┤ X ├┤ X ├┤ X ├──┼────┼────┼────■────┼────■────────────»\n",
       "        └───┘└───┘└───┘└───┘└───┘└───┘┌─┴─┐  │  ┌─┴─┐  │    │    │       ┌───┐»\n",
       "   q_4: ──────────────────────────────┤ X ├──┼──┤ X ├──┼────┼────┼───────┤ X ├»\n",
       "                                      └───┘┌─┴─┐└───┘┌─┴─┐  │    │  ┌───┐└─┬─┘»\n",
       "   q_5: ───────────────────────────────────┤ X ├─────┤ X ├──┼────┼──┤ X ├──┼──»\n",
       "                                           └───┘     └───┘┌─┴─┐  │  └─┬─┘  │  »\n",
       "   q_6: ──────────────────────────────────────────────────┤ X ├──┼────■────┼──»\n",
       "                                                          └───┘┌─┴─┐       │  »\n",
       "   q_7: ───────────────────────────────────────────────────────┤ X ├───────■──»\n",
       "                                                               └───┘          »\n",
       "meas_0: ══════════════════════════════════════════════════════════════════════»\n",
       "                                                                              »\n",
       "meas_1: ══════════════════════════════════════════════════════════════════════»\n",
       "                                                                              »\n",
       "meas_2: ══════════════════════════════════════════════════════════════════════»\n",
       "                                                                              »\n",
       "meas_3: ══════════════════════════════════════════════════════════════════════»\n",
       "                                                                              »\n",
       "meas_4: ══════════════════════════════════════════════════════════════════════»\n",
       "                                                                              »\n",
       "meas_5: ══════════════════════════════════════════════════════════════════════»\n",
       "                                                                              »\n",
       "meas_6: ══════════════════════════════════════════════════════════════════════»\n",
       "                                                                              »\n",
       "meas_7: ══════════════════════════════════════════════════════════════════════»\n",
       "                                                                              »\n",
       "«         ░ ┌─┐                     \n",
       "«   q_0: ─░─┤M├─────────────────────\n",
       "«         ░ └╥┘┌─┐                  \n",
       "«   q_1: ─░──╫─┤M├──────────────────\n",
       "«         ░  ║ └╥┘┌─┐               \n",
       "«   q_2: ─░──╫──╫─┤M├───────────────\n",
       "«         ░  ║  ║ └╥┘┌─┐            \n",
       "«   q_3: ─░──╫──╫──╫─┤M├────────────\n",
       "«         ░  ║  ║  ║ └╥┘┌─┐         \n",
       "«   q_4: ─░──╫──╫──╫──╫─┤M├─────────\n",
       "«         ░  ║  ║  ║  ║ └╥┘┌─┐      \n",
       "«   q_5: ─░──╫──╫──╫──╫──╫─┤M├──────\n",
       "«         ░  ║  ║  ║  ║  ║ └╥┘┌─┐   \n",
       "«   q_6: ─░──╫──╫──╫──╫──╫──╫─┤M├───\n",
       "«         ░  ║  ║  ║  ║  ║  ║ └╥┘┌─┐\n",
       "«   q_7: ─░──╫──╫──╫──╫──╫──╫──╫─┤M├\n",
       "«         ░  ║  ║  ║  ║  ║  ║  ║ └╥┘\n",
       "«meas_0: ════╩══╬══╬══╬══╬══╬══╬══╬═\n",
       "«               ║  ║  ║  ║  ║  ║  ║ \n",
       "«meas_1: ═══════╩══╬══╬══╬══╬══╬══╬═\n",
       "«                  ║  ║  ║  ║  ║  ║ \n",
       "«meas_2: ══════════╩══╬══╬══╬══╬══╬═\n",
       "«                     ║  ║  ║  ║  ║ \n",
       "«meas_3: ═════════════╩══╬══╬══╬══╬═\n",
       "«                        ║  ║  ║  ║ \n",
       "«meas_4: ════════════════╩══╬══╬══╬═\n",
       "«                           ║  ║  ║ \n",
       "«meas_5: ═══════════════════╩══╬══╬═\n",
       "«                              ║  ║ \n",
       "«meas_6: ══════════════════════╩══╬═\n",
       "«                                 ║ \n",
       "«meas_7: ═════════════════════════╩═\n",
       "«                                   "
      ]
     },
     "execution_count": 6,
     "metadata": {},
     "output_type": "execute_result"
    }
   ],
   "source": [
    "# apply the rest of the circuit\n",
    "qc.cx(qr[0], qr[4])\n",
    "qc.cx(qr[1], qr[4])\n",
    "qc.cx(qr[2], qr[5])\n",
    "qc.cx(qr[3], qr[5])\n",
    "qc.ccx(qr[0], qr[1], qr[6])\n",
    "qc.ccx(qr[2], qr[3], qr[7])\n",
    "qc.cx(qr[6], qr[5])\n",
    "qc.cx(qr[7], qr[4])\n",
    "qc.measure_all()\n",
    "qc.draw()"
   ]
  },
  {
   "cell_type": "code",
   "execution_count": 7,
   "id": "eccae100",
   "metadata": {},
   "outputs": [],
   "source": [
    "# run the circuit on a simulator\n",
    "simulator = Aer.get_backend('qasm_simulator')\n",
    "job = execute(qc, simulator, shots=1)\n",
    "result = job.result()"
   ]
  },
  {
   "cell_type": "code",
   "execution_count": 8,
   "id": "82298e86",
   "metadata": {},
   "outputs": [
    {
     "name": "stdout",
     "output_type": "stream",
     "text": [
      "There is a rectangle with sides 5 6 5 6\n"
     ]
    },
    {
     "data": {
      "image/png": "[encoded data removed]",
      "text/plain": [
       "<Figure size 700x500 with 1 Axes>"
      ]
     },
     "execution_count": 8,
     "metadata": {},
     "output_type": "execute_result"
    }
   ],
   "source": [
    "# print the measurement outcome\n",
    "counts = result.get_counts(qc)\n",
    "if list(counts.keys())[0][-n_bits] == '1':\n",
    "    print(\"There is a rectangle with sides\", A, B, C, D)\n",
    "else:\n",
    "    print(\"There is no rectangle with sides\", A, B, C, D)\n",
    "    \n",
    "plot_histogram(counts)"
   ]
  }
 ],
 "metadata": {
  "kernelspec": {
   "display_name": "Qiskit(stable)",
   "language": "python",
   "name": "qiskit-stable"
  },
  "language_info": {
   "codemirror_mode": {
    "name": "ipython",
    "version": 3
   },
   "file_extension": ".py",
   "mimetype": "text/x-python",
   "name": "python",
   "nbconvert_exporter": "python",
   "pygments_lexer": "ipython3",
   "version": "3.9.13"
  }
 },
 "nbformat": 4,
 "nbformat_minor": 5
}
